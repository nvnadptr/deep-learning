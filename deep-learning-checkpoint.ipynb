{
 "cells": [
  {
   "cell_type": "markdown",
   "metadata": {},
   "source": [
    "# Pengenalan python"
   ]
  },
  {
   "cell_type": "markdown",
   "metadata": {},
   "source": [
    "# apa itu python?"
   ]
  },
  {
   "cell_type": "markdown",
   "metadata": {},
   "source": [
    "python adalah bahasa pemrograman tinggi yang dapat melakukan eksekusi sejumlah intruksi multiguna secara langsung (interpretatif) dengan metode orientasi objek (Object Oriented Programming) serta menggunakan semantik dinamis untuk memberikan tingkat keterbacaan syntax. Sebagai bahasa pemrograman tinggi, python dapat dipelajari dengan mudah karena sudah dilengkapi dengan manajemen memori otomatis (pointer)."
   ]
  },
  {
   "cell_type": "markdown",
   "metadata": {},
   "source": [
    "# INSTALASI PYTHON PADA WINDOWS"
   ]
  },
  {
   "cell_type": "markdown",
   "metadata": {},
   "source": [
    "1.Download python pada situs resmi python (python.org)"
   ]
  },
  {
   "cell_type": "markdown",
   "metadata": {},
   "source": [
    "2.Setelah download selesai, kita akan mendapatkan file instalator python yang berfungsi untuk melakukan instalasi pada windows."
   ]
  },
  {
   "cell_type": "markdown",
   "metadata": {},
   "source": [
    "3.Lalu double click pada file instaler sampai muncul jendela seperti gambar dibawah, apply check button pada add python to path, kemudian instal dan tunggu sampai setup progress nya selesai."
   ]
  },
  {
   "cell_type": "markdown",
   "metadata": {},
   "source": [
    "4.Python telah berhasil terinstal"
   ]
  },
  {
   "cell_type": "markdown",
   "metadata": {},
   "source": [
    "# DASAR-DASAR PYTHON "
   ]
  },
  {
   "cell_type": "markdown",
   "metadata": {},
   "source": [
    "# - variabel"
   ]
  },
  {
   "cell_type": "markdown",
   "metadata": {},
   "source": [
    "   Variable adalah lokasi memori yang dicadangkan untuk menyimpan nilai-nilai. Ini berarti bahwa ketika Anda membuat sebuah variabel Anda memesan beberapa ruang di memori. Variabel menyimpan data yang dilakukan selama program dieksekusi, yang natinya isi dari variabel tersebut dapat diubah oleh operasi - operasi tertentu pada program yang menggunakan variabel."
   ]
  },
  {
   "cell_type": "markdown",
   "metadata": {},
   "source": [
    "# Penulisan variabel Python sendiri juga memiliki aturan tertentu, yaitu: "
   ]
  },
  {
   "cell_type": "markdown",
   "metadata": {},
   "source": [
    "- Karakter pertama harus berupa huruf atau garis bawah/underscore _\n",
    "- Karakter selanjutnya dapat berupa huruf, garis bawah/underscore _ atau angka\n",
    "- Karakter pada nama variabel bersifat sensitif (case-sensitif). Artinya huruf kecil dan huruf besar dibedakan. Sebagai contoh, variabel namaDepan dan namadepan adalah variabel yang berbeda.\n"
   ]
  },
  {
   "cell_type": "code",
   "execution_count": 2,
   "metadata": {},
   "outputs": [
    {
     "name": "stdout",
     "output_type": "stream",
     "text": [
      "novian\n"
     ]
    }
   ],
   "source": [
    "nama = \"novian\"\n",
    "print (nama)"
   ]
  },
  {
   "cell_type": "markdown",
   "metadata": {},
   "source": [
    "# - tipe data"
   ]
  },
  {
   "cell_type": "markdown",
   "metadata": {},
   "source": [
    "- tipe data number (integer dan float)\n",
    "- tipe data text \n",
    "- tipe data boolean (true dan false)"
   ]
  },
  {
   "cell_type": "code",
   "execution_count": 9,
   "metadata": {},
   "outputs": [
    {
     "name": "stdout",
     "output_type": "stream",
     "text": [
      "novian\n",
      "20\n",
      "183.22\n"
     ]
    },
    {
     "data": {
      "text/plain": [
       "bool"
      ]
     },
     "execution_count": 9,
     "metadata": {},
     "output_type": "execute_result"
    }
   ],
   "source": [
    "nama = \"novian\"\n",
    "umur = 20\n",
    "tinggi = 183.22\n",
    "bergerak = True\n",
    "print (nama)\n",
    "print (umur)\n",
    "print (tinggi)\n",
    "type (bergerak)"
   ]
  },
  {
   "cell_type": "markdown",
   "metadata": {},
   "source": [
    "# - list\n"
   ]
  },
  {
   "cell_type": "markdown",
   "metadata": {},
   "source": [
    "List adalah struktur data pada python yang mampu menyimpan lebih dari satu data, seperti array. List dapat kita buat seperti membuat variabel biasa, namun nilai variabelnya diisi dengan tanda kurung siku ([]).\n"
   ]
  },
  {
   "cell_type": "markdown",
   "metadata": {},
   "source": [
    "List juga dapat diisi dengan tipe data apa saja, string, integer, float, double, boolean, object, dan sebagainya. Kita juga bisa mencampur isinya.\n"
   ]
  },
  {
   "cell_type": "code",
   "execution_count": 10,
   "metadata": {},
   "outputs": [
    {
     "name": "stdout",
     "output_type": "stream",
     "text": [
      "['buku', 21, True, 34.12]\n"
     ]
    },
    {
     "data": {
      "text/plain": [
       "list"
      ]
     },
     "execution_count": 10,
     "metadata": {},
     "output_type": "execute_result"
    }
   ],
   "source": [
    "laci = [\"buku\",21, True, 34.12]\n",
    "print (laci)\n",
    "type (laci)"
   ]
  },
  {
   "attachments": {
    "list.png": {
     "image/png": "[encoded data removed]"
    }
   },
   "cell_type": "markdown",
   "metadata": {},
   "source": [
    "Cara Mengambil Nilai dari List:\n",
    "List sama seperti array, list juga memiliki nomer indeks untuk mengakses data atau isinya. Nomer indeks list selalu dimulai dari nol (0). Nomer indeks ini yang kita butuhkan untuk mengambil isi (item) dari list.\n",
    "![list.png](attachment:list.png)"
   ]
  },
  {
   "cell_type": "code",
   "execution_count": 11,
   "metadata": {},
   "outputs": [
    {
     "name": "stdout",
     "output_type": "stream",
     "text": [
      "mangga\n"
     ]
    }
   ],
   "source": [
    "buah = [\"melon\",\"pisang\",\"mangga\",\"naga\"]\n",
    "print (buah[2])"
   ]
  },
  {
   "cell_type": "markdown",
   "metadata": {},
   "source": [
    "kita juga dapat mengganti nilai dalam list"
   ]
  },
  {
   "cell_type": "code",
   "execution_count": 12,
   "metadata": {},
   "outputs": [
    {
     "name": "stdout",
     "output_type": "stream",
     "text": [
      "['melon', 'pisang', 'durian', 'naga']\n"
     ]
    }
   ],
   "source": [
    "buah = [\"melon\",\"pisang\",\"mangga\",\"naga\"]\n",
    "buah[2] = \"durian\"\n",
    "print (buah)"
   ]
  },
  {
   "cell_type": "markdown",
   "metadata": {},
   "source": [
    "# Menambahkan Item List"
   ]
  },
  {
   "cell_type": "markdown",
   "metadata": {},
   "source": [
    "Tedapat Tiga metode (method) atau fungsi yang bisa digunakan untuk menambahkan isi atau item ke List:\n",
    "\n",
    "- prepend(item) menambahkan item dari depan;\n",
    "- append(item) menambahkan item dari belakang.\n",
    "- insert(index, item) menambahkan item dari indeks tertentu\n"
   ]
  },
  {
   "attachments": {
    "image.png": {
     "image/png": "[encoded data removed]"
    }
   },
   "cell_type": "markdown",
   "metadata": {},
   "source": [
    "![image.png](attachment:image.png)\n"
   ]
  },
  {
   "cell_type": "code",
   "execution_count": 17,
   "metadata": {},
   "outputs": [
    {
     "name": "stdout",
     "output_type": "stream",
     "text": [
      "['melon', 'pisang', 'mangga', 'naga', 'nanas']\n"
     ]
    }
   ],
   "source": [
    "buah = [\"melon\",\"pisang\",\"mangga\",\"naga\"]\n",
    "buah.append(\"nanas\")\n",
    "print (buah)"
   ]
  },
  {
   "cell_type": "markdown",
   "metadata": {},
   "source": [
    "# pengurangan item dalam list"
   ]
  },
  {
   "cell_type": "code",
   "execution_count": 18,
   "metadata": {},
   "outputs": [
    {
     "name": "stdout",
     "output_type": "stream",
     "text": [
      "['melon', 'mangga', 'naga']\n"
     ]
    }
   ],
   "source": [
    "buah = [\"melon\",\"pisang\",\"mangga\",\"naga\"]\n",
    "del buah[1]\n",
    "print (buah)"
   ]
  },
  {
   "cell_type": "markdown",
   "metadata": {},
   "source": [
    "# Dictionary\n"
   ]
  },
  {
   "cell_type": "markdown",
   "metadata": {},
   "source": [
    "Dictionary adalah stuktur data yang bentuknya seperti kamus. Ada kata kunci kemudian ada nilaninya. Kata kunci harus unik, sedangkan nilai boleh diisi denga apa saja. List ternyata memiliki kekurangan.\n",
    "\n",
    "Kekurangannya: ia tidak bisa menggunakan kata kunci untuk mengakses itemnya. Hanya bisa menggunakan nomer indeks saja.\n",
    "\n",
    "Hal yang wajib ada di dalam pembuatan Dictionary adalah:\n",
    "\n",
    "- nama dictionary,\n",
    "- key,\n",
    "- value,\n",
    "- buka dan tutupnya menggunakan kurung kurawal.\n",
    "\n",
    "Antara key dan value dipisah dengan titik dua (:) dan apabila terdapat lebih dari satu item, maka dipisah dengan tanda koma (,).\n",
    "\n"
   ]
  },
  {
   "cell_type": "code",
   "execution_count": 28,
   "metadata": {},
   "outputs": [
    {
     "name": "stdout",
     "output_type": "stream",
     "text": [
      "{'nama': 'pak eko', 'umur': 22, 'hobi': ['coding', 'membaca', 'bercocok tanam'], 'menikah': False}\n"
     ]
    }
   ],
   "source": [
    "pak_tani = {\n",
    "    \"nama\" : \"pak eko\",\n",
    "    \"umur\" : 22,\n",
    "    \"hobi\" : [\"coding\",\"membaca\",\"bercocok tanam\"],\n",
    "    \"menikah\" : False\n",
    "}\n",
    "print (pak_tani)"
   ]
  },
  {
   "cell_type": "markdown",
   "metadata": {},
   "source": [
    "# Tuple"
   ]
  },
  {
   "cell_type": "markdown",
   "metadata": {},
   "source": [
    "Sebuah tupel adalah urutan objek Python yang tidak berubah. Tupel adalah urutan, seperti daftar. Perbedaan utama antara tupel dan daftarnya adalah bahwa tupel tidak dapat diubah tidak seperti List Python. Tupel menggunakan tanda kurung, sedangkan List Python menggunakan tanda kurung siku.\n",
    "\n"
   ]
  },
  {
   "cell_type": "code",
   "execution_count": 29,
   "metadata": {},
   "outputs": [],
   "source": [
    "tup1 = ('fisika','kimia','biologi')\n",
    "tup2 = (1,2,3,4,5)\n",
    "tup2 = \"a\",\"b\",\"c\""
   ]
  },
  {
   "cell_type": "markdown",
   "metadata": {},
   "source": [
    "# pengambilan nilai dalam tuple"
   ]
  },
  {
   "cell_type": "code",
   "execution_count": 34,
   "metadata": {},
   "outputs": [
    {
     "name": "stdout",
     "output_type": "stream",
     "text": [
      "tup1[1]:  kimia\n",
      "tup2[1:3]:  ('b', 'c')\n"
     ]
    }
   ],
   "source": [
    "tup1 = ('fisika','kimia','biologi')\n",
    "tup2 = (1,2,3,4,5)\n",
    "tup2 = \"a\",\"b\",\"c\"\n",
    "\n",
    "print (\"tup1[1]: \", tup1[1])\n",
    "print (\"tup2[1:3]: \",tup2[1:3])"
   ]
  },
  {
   "cell_type": "markdown",
   "metadata": {},
   "source": [
    "# sumber\n",
    "- https://belajarpython.com/\n",
    "- https://www.petanikode.com/\n"
   ]
  },
  {
   "cell_type": "code",
   "execution_count": null,
   "metadata": {},
   "outputs": [],
   "source": []
  }
 ],
 "metadata": {
  "kernelspec": {
   "display_name": "Python 3",
   "language": "python",
   "name": "python3"
  },
  "language_info": {
   "codemirror_mode": {
    "name": "ipython",
    "version": 3
   },
   "file_extension": ".py",
   "mimetype": "text/x-python",
   "name": "python",
   "nbconvert_exporter": "python",
   "pygments_lexer": "ipython3",
   "version": "3.6.5"
  }
 },
 "nbformat": 4,
 "nbformat_minor": 2
}
